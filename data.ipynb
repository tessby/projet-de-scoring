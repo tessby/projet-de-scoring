{
 "cells": [
  {
   "cell_type": "markdown",
   "metadata": {},
   "source": [
    "##\n",
    "Base analyse avec certaines colonnes drop"
   ]
  },
  {
   "cell_type": "code",
   "execution_count": 1,
   "metadata": {},
   "outputs": [],
   "source": [
    "import pandas as pd\n",
    "\n",
    "# Chemin exact vers votre fichier\n",
    "file_path = \"/Users/tess/Desktop/ENSAI 3A/Techniques et méthodes de scoring/Data/pharma .xlsx\"\n",
    "\n",
    "# Chargement du fichier Excel dans un DataFrame\n",
    "data = pd.read_excel(file_path)\n",
    "\n",
    "# Liste des colonnes à supprimer\n",
    "columns_to_drop = [\n",
    "    'CODSEXPRS',          \n",
    "    'CODPAY_NAISSANCE',   \n",
    "    'CODPAY_NATIONALITE', \n",
    "    'CODPAY_RESIDENCE',   \n",
    "    'CODCMNIEE',\n",
    "    'CODTYPPRS',          \n",
    "    'CRTOD_CMT_IND_0036',   \n",
    "    'CRTOD_CMT_PRO_IND_0209', \n",
    "    'CRTOP_IND_0038',   \n",
    "    'CRTOU_CCT_PRO_IND_0209',\n",
    "    'DATCREENT',\n",
    "    'INDPARDCD',\n",
    "    'RATIO1',\n",
    "    'RATIO3',\n",
    "    'TOP_PRO_ACTIF',\n",
    "    'IND_ACTIF',\n",
    "    'secteur_activite_bis'\n",
    "]\n",
    "\n",
    "# Suppression des colonnes\n",
    "data = data.drop(columns=columns_to_drop)"
   ]
  }
 ],
 "metadata": {
  "kernelspec": {
   "display_name": "Python 3",
   "language": "python",
   "name": "python3"
  },
  "language_info": {
   "codemirror_mode": {
    "name": "ipython",
    "version": 3
   },
   "file_extension": ".py",
   "mimetype": "text/x-python",
   "name": "python",
   "nbconvert_exporter": "python",
   "pygments_lexer": "ipython3",
   "version": "3.13.0"
  }
 },
 "nbformat": 4,
 "nbformat_minor": 2
}
